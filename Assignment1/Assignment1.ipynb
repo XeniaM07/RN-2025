{
 "cells": [
  {
   "cell_type": "markdown",
   "metadata": {},
   "source": [
    "<a target=\"_blank\" href=\"https://colab.research.google.com/github/Tensor-Reloaded/Neural-Networks-Template-2025/blob/main/Lab02/Assignment1.ipynb\">\n",
    "  <img src=\"https://colab.research.google.com/assets/colab-badge.svg\" alt=\"Open In Colab\"/>\n",
    "</a>"
   ]
  },
  {
   "cell_type": "markdown",
   "metadata": {},
   "source": [
    "# **Assignment 1 (10 points)**"
   ]
  },
  {
   "cell_type": "markdown",
   "metadata": {
    "vscode": {
     "languageId": "plaintext"
    }
   },
   "source": [
    "## **Solving a linear system in python**"
   ]
  },
  {
   "cell_type": "markdown",
   "metadata": {
    "vscode": {
     "languageId": "plaintext"
    }
   },
   "source": [
    "In this homework, you will familiarize yourself with key linear algebra con-\n",
    "cepts and Python programming by solving a system of linear equations. You\n",
    "will explore multiple methods for solving such systems, including Cramer’s rule\n",
    "and matrix inversion. By the end of this assignment, you will have a good un-\n",
    "derstanding of how to represent and manipulate matrices and vectors in Python."
   ]
  },
  {
   "cell_type": "markdown",
   "metadata": {
    "vscode": {
     "languageId": "plaintext"
    }
   },
   "source": [
    "We begin with the following system of 3 linear equations with 3 unknowns:\n",
    "$$ 2x + 3y - z = 5 $$\n",
    "$$ x - y + 4z = 6 $$\n",
    "$$ 3x + y + 2z = 7 $$\n",
    "\n",
    "This system can be vectorized in the following form:\n",
    "$$ A \\cdot X = B $$\n",
    "where:\n",
    "$$\n",
    "A = \\begin{bmatrix}\n",
    "2 & 3 & -1 \\\\\n",
    "1 & -1 & 4 \\\\\n",
    "3 & 1 & 2\n",
    "\\end{bmatrix}, \\quad \n",
    "X = \\begin{bmatrix}\n",
    "x \\\\\n",
    "y \\\\\n",
    "z\n",
    "\\end{bmatrix}, \\quad \n",
    "B = \\begin{bmatrix}\n",
    "5 \\\\\n",
    "6 \\\\\n",
    "7\n",
    "\\end{bmatrix}\n",
    "$$\n",
    "\n",
    "**Considerations**\n",
    "- do not use any linear algebra framework such as $numpy$\n",
    "- use python lists as data structures for matrices and vectors\n",
    "- experiment with other values for the coefficients and free terms"
   ]
  },
  {
   "cell_type": "markdown",
   "metadata": {
    "vscode": {
     "languageId": "plaintext"
    }
   },
   "source": [
    "### **1. Parsing the System of Equations (1 point)**"
   ]
  },
  {
   "cell_type": "markdown",
   "metadata": {
    "vscode": {
     "languageId": "plaintext"
    }
   },
   "source": [
    "The first task is to implement a Python script that reads a system of linear equations from a text file and parses it into a matrix $A$ and a vector $B$. You will use the input format described below to extract the coefficients for $A$ and $B$.\n",
    "\n",
    "**Input File Format**\n",
    "```text\n",
    "2x + 3y - z = 5\n",
    "x - y + 4z = 6\n",
    "3x + y + 2z = 7\n",
    "```\n",
    "\n",
    "Note that the coefficients are always in the order x, y and z and the terms are always space separated"
   ]
  },
  {
   "cell_type": "code",
   "execution_count": 32,
   "metadata": {},
   "outputs": [
    {
     "name": "stdout",
     "output_type": "stream",
     "text": [
      "A=[[2.0, 3.0, -1.0], [1.0, -1.0, 4.0], [3.0, 1.0, 2.0]] B=[5.0, 6.0, 7.0]\n"
     ]
    }
   ],
   "source": [
    "import pathlib\n",
    "\n",
    "def load_system(path: pathlib.Path) -> tuple[list[list[float]], list[float]]:\n",
    "    A = []\n",
    "    B = []\n",
    "    with open(path, \"r\", encoding=\"utf-8\") as f:\n",
    "        lines = [line.strip() for line in f if line.strip()]\n",
    "    for line in lines:\n",
    "        lhs, rhs = line.split(\"=\")\n",
    "        B.append(float(rhs.strip()))\n",
    "        coeffs = [0.0, 0.0, 0.0]\n",
    "        tokens = lhs.strip().split()\n",
    "        sign = 1\n",
    "        for tok in tokens:\n",
    "            if tok == \"+\": \n",
    "                sign = 1\n",
    "                continue\n",
    "            if tok == \"-\": \n",
    "                sign = -1\n",
    "                continue\n",
    "            for i, var in enumerate([\"x\", \"y\", \"z\"]):\n",
    "                if var in tok:\n",
    "                    coef_str = tok.replace(var, \"\")\n",
    "                    coef = 1.0 if coef_str in (\"\", \"+\") else -1.0 if coef_str == \"-\" else float(coef_str)\n",
    "                    coeffs[i] = sign * coef\n",
    "                    sign = 1\n",
    "                    break\n",
    "        A.append(coeffs)\n",
    "    return A, B\n",
    "\n",
    "A, B = load_system(pathlib.Path(\"system.txt\"))\n",
    "print(f\"{A=} {B=}\")\n"
   ]
  },
  {
   "cell_type": "markdown",
   "metadata": {
    "vscode": {
     "languageId": "plaintext"
    }
   },
   "source": [
    "### **2. Matrix and Vector Operations (5 points)**"
   ]
  },
  {
   "cell_type": "markdown",
   "metadata": {
    "vscode": {
     "languageId": "plaintext"
    }
   },
   "source": [
    "Once you have successfully parsed the matrix and vector, complete the following exercises to manipulate and understand basic matrix and vector operations. Write Python functions for each of these tasks:"
   ]
  },
  {
   "cell_type": "markdown",
   "metadata": {
    "vscode": {
     "languageId": "plaintext"
    }
   },
   "source": [
    "#### 2.1. Determinant"
   ]
  },
  {
   "cell_type": "markdown",
   "metadata": {
    "vscode": {
     "languageId": "plaintext"
    }
   },
   "source": [
    "Write a function to compute the determinant of matrix $A$. Recall one of the formulae for the determinant of a $3x3$ matrix:\n",
    "$$ \\text{det}(A) = a_{11}(a_{22}a_{33} - a_{23}a_{32}) - a_{12}(a_{21}a_{33} - a_{23}a_{31}) + a_{13}(a_{21}a_{32} - a_{22}a_{31}) $$"
   ]
  },
  {
   "cell_type": "code",
   "execution_count": 24,
   "metadata": {},
   "outputs": [
    {
     "name": "stdout",
     "output_type": "stream",
     "text": [
      "determinant(A) = 14.0\n"
     ]
    }
   ],
   "source": [
    "# def determinant(matrix: list[list[float]]) -> float:\n",
    "#     n = len(matrix)\n",
    "#     if n == 1:\n",
    "#         return matrix[0][0]\n",
    "#     if n == 2:\n",
    "#         return matrix[0][0]*matrix[1][1] - matrix[0][1]*matrix[1][0]\n",
    "\n",
    "#     det = 0\n",
    "#     for col in range(n):\n",
    "#         minor = [row[:col] + row[col+1:] for row in matrix[1:]]\n",
    "#         cofactor = ((-1) ** col) * matrix[0][col] * determinant(minor)\n",
    "#         det += cofactor\n",
    "#     return det\n",
    "\n",
    "def determinant_3x3(matrix: list[list[float]]) -> float:\n",
    "    a11, a12, a13 = matrix[0][0], matrix[0][1], matrix[0][2]\n",
    "    a21, a22, a23 = matrix[1][0], matrix[1][1], matrix[1][2]\n",
    "    a31, a32, a33 = matrix[2][0], matrix[2][1], matrix[2][2]\n",
    "    return (\n",
    "        a11 * (a22 * a33 - a23 * a32)\n",
    "        - a12 * (a21 * a33 - a23 * a31)\n",
    "        + a13 * (a21 * a32 - a22 * a31)\n",
    "    )\n",
    "\n",
    "A, B = load_system(pathlib.Path(\"system.txt\"))\n",
    "# print(f\"determinant(A) = {determinant(A)}\")\n",
    "print(f\"determinant(A) = {determinant_3x3(A)}\")"
   ]
  },
  {
   "cell_type": "markdown",
   "metadata": {},
   "source": [
    "#### 2.2. Trace"
   ]
  },
  {
   "cell_type": "markdown",
   "metadata": {},
   "source": [
    "Compute the sum of the elements along the main diagonal of matrix $A$. For a matrix $A$, this is:\n",
    "$$ \\text{Trace}(A) = a_{11} + a_{22} + a_{33} $$"
   ]
  },
  {
   "cell_type": "code",
   "execution_count": 25,
   "metadata": {},
   "outputs": [
    {
     "name": "stdout",
     "output_type": "stream",
     "text": [
      "Trace(A) = 3.0\n"
     ]
    }
   ],
   "source": [
    "# def trace(matrix: list[list[float]]) -> float:\n",
    "#     n = len(matrix)\n",
    "#     total = 0.0\n",
    "#     for i in range(n):\n",
    "#         total += matrix[i][i]\n",
    "#     return total\n",
    "\n",
    "# A, B = load_system(pathlib.Path(\"system.txt\"))\n",
    "# print(f\"trace(A)={trace(A)}\")\n",
    "\n",
    "def trace_3x3(matrix: list[list[float]]) -> float:\n",
    "    return matrix[0][0] + matrix[1][1] + matrix[2][2]\n",
    "\n",
    "A, B = load_system(pathlib.Path(\"system.txt\"))\n",
    "print(f\"Trace(A) = {trace_3x3(A)}\")"
   ]
  },
  {
   "cell_type": "markdown",
   "metadata": {},
   "source": [
    "#### 2.3. Vector norm"
   ]
  },
  {
   "cell_type": "markdown",
   "metadata": {},
   "source": [
    "Compute the Euclidean norm of vector $B$, which is:\n",
    "$$ ||B|| = \\sqrt{b_1^2 + b_2^2 + b_3^2} $$"
   ]
  },
  {
   "cell_type": "code",
   "execution_count": 26,
   "metadata": {},
   "outputs": [
    {
     "name": "stdout",
     "output_type": "stream",
     "text": [
      "norm(B) = 10.488088481701515\n"
     ]
    }
   ],
   "source": [
    "import math\n",
    "\n",
    "# def norm(vector: list[float]) -> float:\n",
    "#     total = 0.0\n",
    "#     for val in vector:\n",
    "#         total += val ** 2\n",
    "#     return math.sqrt(total)\n",
    "\n",
    "# A, B = load_system(pathlib.Path(\"system.txt\"))\n",
    "# print(f\"norm(B)={norm(B)}\")\n",
    "\n",
    "def norm_3(vector: list[float]) -> float:\n",
    "    return math.sqrt(vector[0]**2 + vector[1]**2 + vector[2]**2)\n",
    "\n",
    "A, B = load_system(pathlib.Path(\"system.txt\"))\n",
    "print(f\"norm(B) = {norm_3(B)}\")\n"
   ]
  },
  {
   "cell_type": "markdown",
   "metadata": {},
   "source": [
    "#### 2.4. Transpose of matrix"
   ]
  },
  {
   "cell_type": "markdown",
   "metadata": {},
   "source": [
    "Write a function to compute the transpose of matrix $A$. The transpose of a matrix $A$ is obtained by swapping its rows and columns.\n",
    "    "
   ]
  },
  {
   "cell_type": "code",
   "execution_count": 27,
   "metadata": {},
   "outputs": [
    {
     "name": "stdout",
     "output_type": "stream",
     "text": [
      "transpose(A) = [[2.0, 1.0, 3.0], [3.0, -1.0, 1.0], [-1.0, 4.0, 2.0]]\n"
     ]
    }
   ],
   "source": [
    "# def transpose(matrix: list[list[float]]) -> list[list[float]]:\n",
    "#     rows = len(matrix)\n",
    "#     cols = len(matrix[0])\n",
    "#     transposed = []\n",
    "#     for j in range(cols):\n",
    "#         row = []\n",
    "#         for i in range(rows):\n",
    "#             row.append(matrix[i][j])\n",
    "#         transposed.append(row)\n",
    "#     return transposed\n",
    "\n",
    "# A, B = load_system(pathlib.Path(\"system.txt\"))\n",
    "# print(f\"transpose(A)={transpose(A)}\")\n",
    "\n",
    "def transpose_3x3(matrix: list[list[float]]) -> list[list[float]]:\n",
    "    return [\n",
    "        [matrix[0][0], matrix[1][0], matrix[2][0]],\n",
    "        [matrix[0][1], matrix[1][1], matrix[2][1]],\n",
    "        [matrix[0][2], matrix[1][2], matrix[2][2]],\n",
    "    ]\n",
    "\n",
    "A, B = load_system(pathlib.Path(\"system.txt\"))\n",
    "print(f\"transpose(A) = {transpose_3x3(A)}\")"
   ]
  },
  {
   "cell_type": "markdown",
   "metadata": {},
   "source": [
    "#### 2.5. Matrix-vector multiplication"
   ]
  },
  {
   "cell_type": "markdown",
   "metadata": {},
   "source": [
    "Write a function that multiplies matrix $A$ with vector $B$."
   ]
  },
  {
   "cell_type": "code",
   "execution_count": 28,
   "metadata": {},
   "outputs": [
    {
     "name": "stdout",
     "output_type": "stream",
     "text": [
      "multiply(A, B) = [21.0, 27.0, 35.0]\n"
     ]
    }
   ],
   "source": [
    "# def multiply(matrix: list[list[float]], vector: list[float]) -> list[float]:\n",
    "#     rows = len(matrix)\n",
    "#     cols = len(matrix[0])\n",
    "#     result = []\n",
    "#     for i in range(rows):\n",
    "#         s = 0.0\n",
    "#         for j in range(cols):\n",
    "#             s += matrix[i][j] * vector[j]\n",
    "#         result.append(s)\n",
    "#     return result\n",
    "\n",
    "# A, B = load_system(pathlib.Path(\"system.txt\"))\n",
    "# print(f\"multiply(A, B)={multiply(A, B)}\")\n",
    "\n",
    "\n",
    "def multiply_3x3(matrix: list[list[float]], vector: list[float]) -> list[float]:\n",
    "    c1 = matrix[0][0] * vector[0] + matrix[0][1] * vector[1] + matrix[0][2] * vector[2]\n",
    "    c2 = matrix[1][0] * vector[0] + matrix[1][1] * vector[1] + matrix[1][2] * vector[2]\n",
    "    c3 = matrix[2][0] * vector[0] + matrix[2][1] * vector[1] + matrix[2][2] * vector[2]\n",
    "    return [c1, c2, c3]\n",
    "\n",
    "A, B = load_system(pathlib.Path(\"system.txt\"))\n",
    "print(f\"multiply(A, B) = {multiply_3x3(A, B)}\")\n"
   ]
  },
  {
   "cell_type": "markdown",
   "metadata": {},
   "source": [
    "### **3. Solving using Cramer's Rule (1 point)**"
   ]
  },
  {
   "cell_type": "markdown",
   "metadata": {},
   "source": [
    "Now that you have explored basic matrix operations, solve the system of linear equations using Cramer's rule.\n",
    "\n",
    "**Cramer's Rule:**\n",
    "\n",
    "Cramer's rule allows you to solve for each unknown $x$, $y$, and $z$ using determinants. For example:\n",
    "$$ x = \\frac{\\text{det}(A_x)}{\\text{det}(A)}, \\quad y = \\frac{\\text{det}(A_y)}{\\text{det}(A)}, \\quad z = \\frac{\\text{det}(A_z)}{\\text{det}(A)} $$\n",
    "where $A_x$, $A_y$, and $A_z$ are matrices formed by replacing the respective column of matrix $A$ with vector $B$."
   ]
  },
  {
   "cell_type": "code",
   "execution_count": 29,
   "metadata": {},
   "outputs": [
    {
     "name": "stdout",
     "output_type": "stream",
     "text": [
      "solve_cramer_3x3(A, B) = [0.35714285714285715, 2.0714285714285716, 1.9285714285714286]\n"
     ]
    }
   ],
   "source": [
    "# def solve_cramer(matrix: list[list[float]], vector: list[float]) -> list[float]:\n",
    "#     n = len(matrix)\n",
    "#     detA = determinant(matrix)\n",
    "#     if abs(detA) < 1e-12:\n",
    "#         raise ValueError(\"Matrice singulară (det(A)≈0) — Cramer nu se aplică.\")\n",
    "#     sol = []\n",
    "#     for j in range(n):\n",
    "#         Aj = [row[:] for row in matrix]\n",
    "#         for i in range(n):\n",
    "#             Aj[i][j] = vector[i]\n",
    "#         sol.append(determinant(Aj) / detA)\n",
    "#     return sol\n",
    "\n",
    "# A, B = load_system(pathlib.Path(\"system.txt\"))\n",
    "# print(f\"{solve_cramer(A, B)=}\")\n",
    "\n",
    "def solve_cramer_3x3(matrix: list[list[float]], vector: list[float]) -> list[float]:\n",
    "    detA = determinant_3x3(matrix)\n",
    "    if abs(detA) < 1e-12:\n",
    "        raise ValueError(\"Matrice singulară (det(A)≈0) — Cramer nu se aplică.\")\n",
    "\n",
    "    A1 = [row[:] for row in matrix]\n",
    "    A2 = [row[:] for row in matrix]\n",
    "    A3 = [row[:] for row in matrix]\n",
    "    for i in range(3):\n",
    "        A1[i][0] = vector[i]\n",
    "        A2[i][1] = vector[i]\n",
    "        A3[i][2] = vector[i]\n",
    "\n",
    "    x = determinant_3x3(A1) / detA\n",
    "    y = determinant_3x3(A2) / detA\n",
    "    z = determinant_3x3(A3) / detA\n",
    "    return [x, y, z]\n",
    "\n",
    "A, B = load_system(pathlib.Path(\"system.txt\"))\n",
    "print(f\"solve_cramer_3x3(A, B) = {solve_cramer_3x3(A, B)}\")\n"
   ]
  },
  {
   "cell_type": "markdown",
   "metadata": {},
   "source": [
    "### **4. Solving using Inversion (3 points)**"
   ]
  },
  {
   "cell_type": "markdown",
   "metadata": {},
   "source": [
    "Finally, solve the system by computing the inverse of matrix $A$ and multiplying it by vector $B$.\n",
    "$$ A \\cdot X = B \\rightarrow X = A^{-1} \\cdot B $$\n",
    "**Adjugate Method for Matrix Inversion:**\n",
    "\n",
    "To find the inverse of matrix $ A $, you can use the adjugate method:\n",
    "$$ A^{-1} = \\frac{1}{\\text{det}(A)} \\times \\text{adj}(A) $$\n",
    "where $\\text{adj}(A)$ is the adjugate (or adjoint) matrix, which is the transpose of the cofactor matrix of $ A $.\n",
    "\n",
    "**Cofactor Matrix:**\n",
    "\n",
    "The cofactor matrix is a matrix where each element is replaced by its cofactor. The cofactor of an element $a_{ij}$ is given by:\n",
    "$$ (-1)^{i+j} \\times \\text{det}(M_{ij}) $$\n",
    "where $M_{ij}$ is the minor of element $a_{ij}$, which is the matrix obtained by removing the $i$-th row and $j$-th column from matrix $A$."
   ]
  },
  {
   "cell_type": "code",
   "execution_count": 30,
   "metadata": {},
   "outputs": [
    {
     "name": "stdout",
     "output_type": "stream",
     "text": [
      "Solutia sistemului este: [0.35714285714285765, 2.071428571428571, 1.9285714285714288]\n"
     ]
    }
   ],
   "source": [
    "# def determinant(matrix: list[list[float]]) -> float:\n",
    "#     n = len(matrix)\n",
    "#     if n == 1:\n",
    "#         return matrix[0][0]\n",
    "#     if n == 2:\n",
    "#         return matrix[0][0]*matrix[1][1] - matrix[0][1]*matrix[1][0]\n",
    "#     det = 0.0\n",
    "#     for col in range(n):\n",
    "#         m = [row[:col] + row[col+1:] for row in matrix[1:]]\n",
    "#         det += ((-1) ** col) * matrix[0][col] * determinant(m)\n",
    "#     return det\n",
    "\n",
    "# def minor(matrix: list[list[float]], i: int, j: int) -> list[list[float]]:\n",
    "#     return [row[:j] + row[j+1:] for r, row in enumerate(matrix) if r != i]\n",
    "\n",
    "# def cofactor(matrix: list[list[float]]) -> list[list[float]]:\n",
    "#     n = len(matrix)\n",
    "#     C = []\n",
    "#     for i in range(n):\n",
    "#         rowC = []\n",
    "#         for j in range(n):\n",
    "#             mij = minor(matrix, i, j)\n",
    "#             rowC.append(((-1) ** (i + j)) * determinant(mij))\n",
    "#         C.append(rowC)\n",
    "#     return C\n",
    "\n",
    "# def adjoint(matrix: list[list[float]]) -> list[list[float]]:\n",
    "#     C = cofactor(matrix)\n",
    "#     n = len(C)\n",
    "#     return [[C[i][j] for i in range(n)] for j in range(n)]\n",
    "\n",
    "# def solve(matrix: list[list[float]], vector: list[float]) -> list[float]:\n",
    "#     detA = determinant(matrix)\n",
    "#     if abs(detA) < 1e-12:\n",
    "#         raise ValueError(\"Matrice singulară: det(A)≈0\")\n",
    "#     adj = adjoint(matrix)\n",
    "#     n = len(matrix)\n",
    "#     # x = (adj(A)/detA) * B\n",
    "#     x = []\n",
    "#     for i in range(n):\n",
    "#         s = 0.0\n",
    "#         for j in range(n):\n",
    "#             s += (adj[i][j] / detA) * vector[j]\n",
    "#         x.append(s)\n",
    "#     return x\n",
    "\n",
    "# import pathlib\n",
    "# A, B = load_system(pathlib.Path(\"system.txt\"))\n",
    "# print(f\"{solve(A, B)=}\")\n",
    "\n",
    "def determinant_3x3(matrix: list[list[float]]) -> float:\n",
    "    a11, a12, a13 = matrix[0][0], matrix[0][1], matrix[0][2]\n",
    "    a21, a22, a23 = matrix[1][0], matrix[1][1], matrix[1][2]\n",
    "    a31, a32, a33 = matrix[2][0], matrix[2][1], matrix[2][2]\n",
    "\n",
    "    return (\n",
    "        a11 * (a22 * a33 - a23 * a32)\n",
    "        - a12 * (a21 * a33 - a23 * a31)\n",
    "        + a13 * (a21 * a32 - a22 * a31)\n",
    "    )\n",
    "\n",
    "def minor_3x3(matrix: list[list[float]], i: int, j: int) -> list[list[float]]:\n",
    "    return [\n",
    "        [matrix[row][col] for col in range(3) if col != j]\n",
    "        for row in range(3) if row != i\n",
    "    ]\n",
    "\n",
    "def determinant_2x2(matrix: list[list[float]]) -> float:\n",
    "    return matrix[0][0]*matrix[1][1] - matrix[0][1]*matrix[1][0]\n",
    "\n",
    "\n",
    "def cofactor_3x3(matrix: list[list[float]]) -> list[list[float]]:\n",
    "    C = []\n",
    "    for i in range(3):\n",
    "        rowC = []\n",
    "        for j in range(3):\n",
    "            mij = minor_3x3(matrix, i, j)\n",
    "            cof = ((-1) ** (i + j)) * determinant_2x2(mij)\n",
    "            rowC.append(cof)\n",
    "        C.append(rowC)\n",
    "    return C\n",
    "\n",
    "def adjoint_3x3(matrix: list[list[float]]) -> list[list[float]]:\n",
    "    C = cofactor_3x3(matrix)\n",
    "    return [[C[i][j] for i in range(3)] for j in range(3)]\n",
    "\n",
    "def solve_3x3_with_inverse(matrix: list[list[float]], vector: list[float]) -> list[float]:\n",
    "    detA = determinant_3x3(matrix)\n",
    "    if abs(detA) < 1e-12:\n",
    "        raise ValueError(\"Matrice singulară: det(A) ≈ 0\")\n",
    "\n",
    "    adj = adjoint_3x3(matrix)\n",
    "    \n",
    "    # x = (1 / detA) * adj(A) * B\n",
    "    result = []\n",
    "    for i in range(3):\n",
    "        s = 0.0\n",
    "        for j in range(3):\n",
    "            s += (adj[i][j] / detA) * vector[j]\n",
    "        result.append(s)\n",
    "    return result\n",
    "\n",
    "A, B = load_system(pathlib.Path(\"system.txt\"))\n",
    "sol = solve_3x3_with_inverse(A, B)\n",
    "print(f\"Solutia sistemului este: {sol}\")\n"
   ]
  }
 ],
 "metadata": {
  "kernelspec": {
   "display_name": "313",
   "language": "python",
   "name": "python3"
  },
  "language_info": {
   "codemirror_mode": {
    "name": "ipython",
    "version": 3
   },
   "file_extension": ".py",
   "mimetype": "text/x-python",
   "name": "python",
   "nbconvert_exporter": "python",
   "pygments_lexer": "ipython3",
   "version": "3.13.7"
  }
 },
 "nbformat": 4,
 "nbformat_minor": 2
}
